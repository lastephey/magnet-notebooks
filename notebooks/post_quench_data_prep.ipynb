{
 "cells": [
  {
   "cell_type": "code",
   "execution_count": 2,
   "metadata": {},
   "outputs": [],
   "source": [
    "\n",
    "import numpy as np\n"
   ]
  },
  {
   "cell_type": "code",
   "execution_count": 4,
   "metadata": {},
   "outputs": [
    {
     "name": "stdout",
     "output_type": "stream",
     "text": [
      "(20, 625, 512)\n"
     ]
    }
   ],
   "source": [
    "#raw data from maxim feb 2020, processing in march 2020\n",
    "\n",
    "#Here is the description of the files.\n",
    "\n",
    "#I processed quench #3 and #103 for now, \"bot\" acoustic channel only.\n",
    "#Signals there thresholded at 60 mV to extract individual events. For\n",
    "#each individual event a spectrogram was calculated and recorded as 2D\n",
    "#array in a comma-separated csv file (where filename is the event\n",
    "#number). The length of each waveform is ~5 ms (5000 points). For events\n",
    "#that were shorter than 5000 pts rest of the waveform was \"padded\" with\n",
    "#small random numbers before spectrogram calculation to avoid processing\n",
    "#artifacts. Events that were longer than 5000 points were truncated to\n",
    "#5000 points. A pre-trigger window in front of all events is 100 points.\n",
    "#Spectrogram arrays are 512 rows (frequencies) x 625 columns (duration).\n",
    "#The physical frequency range corresponding to the 512 levels is 0 -\n",
    "#485000 Hz. The physical duration corresponding to the 625 points is 5.15 ms.\n",
    "\n",
    "#In addition to spectrograms, a file named \"summary.csv\" was recorded for\n",
    "#both quench ramps containing all events found in that particular ramp.\n",
    "#Each event is represented with a row of 6 comma-separated numbers, and\n",
    "#the column labels are the following:\n",
    "\n",
    "# of zero crossings,  Duration of the event (pts),  Square of max.\n",
    "#amplitude (Umax^2), Energy (Urms^2), Mean frequency (Hz), Magnet current\n",
    "#(A), Absolute event starting point (#)\n",
    "\n",
    "#For quench ramp #3 magnet current was saturated at ~900A, but events\n",
    "#were collected in the window where current is >500A, so post-quench\n",
    "#events are not included.\n",
    "\n",
    "#these area really large files so they will take a bit to load (8 and 16 gb respectively)\n",
    "pq_data_raw = np.load('/global/cscratch1/sd/stephey/march2020_data/Q3_Q103_postquench/pq_rawdata.npy')\n",
    "\n",
    "print(pq_data_raw.shape)\n",
    "\n",
    "\n",
    "     "
   ]
  },
  {
   "cell_type": "code",
   "execution_count": 5,
   "metadata": {},
   "outputs": [],
   "source": [
    "#same normalization procedure as before\n",
    "\n",
    "#don't normalize over the whole quench, normalize each image\n",
    "pq_data = np.zeros_like(pq_data_raw)\n",
    "\n",
    "#it's not pretty but it works\n",
    "#save the normalization values so we can plot\n",
    "\n",
    "pq_max = np.zeros(pq_data_raw.shape[0])\n",
    "pq_norm = np.zeros(pq_data_raw.shape[0])\n",
    "for i, im in enumerate(pq_data_raw):\n",
    "    pq_data[i,:,:] = pq_data_raw[i,:,:]/np.max(pq_data_raw[i,:,:])\n",
    "    pq_max[i] = np.max(pq_data_raw[i,:,:])\n",
    "    pq_norm[i] = 1/np.max(pq_data_raw[i,:,:])   \n",
    "    \n",
    "#should save these data so we don't have to keep redoing this expensive step\n",
    "np.save('/global/cscratch1/sd/stephey/march2020_data/Output/pq_data.npy', pq_data)\n",
    "np.save('/global/cscratch1/sd/stephey/march2020_data/Output/pq_max.npy', pq_max)\n",
    "np.save('/global/cscratch1/sd/stephey/march2020_data/Output/pq_norm.npy', pq_norm)\n",
    "  \n",
    "    "
   ]
  },
  {
   "cell_type": "code",
   "execution_count": null,
   "metadata": {},
   "outputs": [],
   "source": []
  }
 ],
 "metadata": {
  "kernelspec": {
   "display_name": "Python 3",
   "language": "python",
   "name": "python3"
  },
  "language_info": {
   "codemirror_mode": {
    "name": "ipython",
    "version": 3
   },
   "file_extension": ".py",
   "mimetype": "text/x-python",
   "name": "python",
   "nbconvert_exporter": "python",
   "pygments_lexer": "ipython3",
   "version": "3.7.4"
  }
 },
 "nbformat": 4,
 "nbformat_minor": 4
}
