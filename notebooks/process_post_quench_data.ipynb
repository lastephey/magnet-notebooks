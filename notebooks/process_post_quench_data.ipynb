{
 "cells": [
  {
   "cell_type": "code",
   "execution_count": 1,
   "metadata": {},
   "outputs": [],
   "source": [
    "import os\n",
    "import glob\n",
    "import numpy as np\n",
    "\n",
    "#q003_path = '/global/cscratch1/sd/stephey/march2020_data/Output'\n",
    "#q103_path = '/global/cscratch1/sd/stephey/march2020_data/Output2'\n",
    "pq_path = '/global/cscratch1/sd/stephey/march2020_data/Q3_Q103_postquench'\n"
   ]
  },
  {
   "cell_type": "code",
   "execution_count": 2,
   "metadata": {},
   "outputs": [
    {
     "name": "stdout",
     "output_type": "stream",
     "text": [
      "changed directory\n",
      "/global/cscratch1/sd/stephey/march2020_data/Q3_Q103_postquench\n",
      "20\n",
      "0 of 20\n",
      "1 of 20\n",
      "2 of 20\n",
      "3 of 20\n",
      "4 of 20\n",
      "5 of 20\n",
      "6 of 20\n",
      "7 of 20\n",
      "8 of 20\n",
      "9 of 20\n",
      "10 of 20\n",
      "11 of 20\n",
      "12 of 20\n",
      "13 of 20\n",
      "14 of 20\n",
      "15 of 20\n",
      "16 of 20\n",
      "17 of 20\n",
      "18 of 20\n",
      "19 of 20\n"
     ]
    }
   ],
   "source": [
    "#do all post quench together\n",
    "\n",
    "try:\n",
    "    os.chdir(pq_path)\n",
    "    print(\"changed directory\")\n",
    "except OSError:\n",
    "    print(\"could not change directory\")\n",
    "\n",
    "#won't work from desktop moving files\n",
    "print(os.getcwd())\n",
    "\n",
    "#generate list of all files in directory\n",
    "csv_files=glob.glob(\"*.csv\")\n",
    "\n",
    "#print(csv_files)\n",
    "print(len(csv_files))\n",
    "\n",
    "#ok now loop thorugh all csv files and convert into numpy arrays\n",
    "#preallocate array for image data, 512 rows (freq) by 625 columns (duration), i think maxim has htis backwards\n",
    "#one big file is like 8 gb, too big apparently!\n",
    "nimages = len(csv_files)\n",
    "\n",
    "img_buffer = np.zeros((nimages,625,512))\n",
    "for i, readfile in enumerate(csv_files):\n",
    "    print(\"%s of %s\" %(i, nimages))\n",
    "    img_buffer[i,:,:] = np.loadtxt(readfile,delimiter=\",\")\n",
    "\n",
    "np.save('pq_rawdata.npy',img_buffer)"
   ]
  }
 ],
 "metadata": {
  "kernelspec": {
   "display_name": "Python 3",
   "language": "python",
   "name": "python3"
  },
  "language_info": {
   "codemirror_mode": {
    "name": "ipython",
    "version": 3
   },
   "file_extension": ".py",
   "mimetype": "text/x-python",
   "name": "python",
   "nbconvert_exporter": "python",
   "pygments_lexer": "ipython3",
   "version": "3.7.4"
  }
 },
 "nbformat": 4,
 "nbformat_minor": 4
}
